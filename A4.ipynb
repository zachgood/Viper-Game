{
 "cells": [
  {
   "cell_type": "markdown",
   "metadata": {},
   "source": [
    "# Snake"
   ]
  },
  {
   "cell_type": "markdown",
   "metadata": {},
   "source": [
    "Zach Goodenow <br>\n",
    "10/21/18 <br>"
   ]
  },
  {
   "cell_type": "code",
   "execution_count": 40,
   "metadata": {
    "collapsed": true
   },
   "outputs": [],
   "source": [
    "import pandas as pd\n",
    "import numpy as np\n",
    "import pickle\n",
    "import matplotlib\n",
    "import matplotlib.pyplot as plt\n",
    "from random import randint\n",
    "from IPython.display import clear_output\n",
    "import time"
   ]
  },
  {
   "cell_type": "code",
   "execution_count": 44,
   "metadata": {
    "collapsed": true
   },
   "outputs": [],
   "source": [
    "# FOR TIMING CELLS IN MILLS\n",
    "current_milli_time = lambda: int(round(time.time() * 1000))"
   ]
  },
  {
   "cell_type": "code",
   "execution_count": 34,
   "metadata": {
    "collapsed": true
   },
   "outputs": [],
   "source": [
    "class Snake(object):\n",
    "    \n",
    "    def __init__(self):\n",
    "        self.board = np.zeros((10, 10), dtype=str)    # 10x10 board\n",
    "        self.board[:] = ' '                           # set white space\n",
    "        self.iApple = (randint(0,8), randint(0,9))    # set index of apple '#'  - anywhere but bottom row\n",
    "        self.iHead = (9, randint(0,9))                # set index of head  'O'  - anywhere on bottom row\n",
    "        self.aBody = []                               # set indexs of body '+'  - empty to start\n",
    "        self.hitAppleOnLastMove = False               # keep track of last move - used in move head\n",
    "        self.stateList = [self.getState()]            # keep track of all states/moves - used in move/unmakemove\n",
    "    \n",
    "    # NOTE: state list is managed by make move and unmake move exclusively  \n",
    "    def getState(self):\n",
    "        return (self.iApple, self.iHead, tuple(self.aBody), self.hitAppleOnLastMove)\n",
    "    \n",
    "    # NOTE: state list is managed by make move and unmake move exclusively\n",
    "    def setState(self, state):\n",
    "        self.iApple = state[0]\n",
    "        self.iHead = state[1]\n",
    "        self.aBody = list(state[2])\n",
    "        self.hitAppleOnLastMove = state[3]\n",
    "\n",
    "# GETS ------------\n",
    "    # returns (row,col) of head\n",
    "    def getHead(self):\n",
    "        return self.iHead\n",
    "    \n",
    "    # returns (row,col) of apple\n",
    "    def getApple(self):\n",
    "        return self.iApple\n",
    "    \n",
    "    # returns length of body (i.e. count apples eatten)\n",
    "    def getBodyLength(self):\n",
    "        return len(self.aBody)\n",
    "\n",
    "# SETS ------------ (should prob be private)\n",
    "    # places pieces in their spot on the board. only used before printing\n",
    "    def setupBoard(self):\n",
    "        self.board[:] = ' '                # set all to empty\n",
    "        self.board[self.iApple] = '#'      # place apple\n",
    "        for part in self.aBody:\n",
    "            self.board[part] = '+'         # place body part - needs to be before head for case when apple is eatten\n",
    "        self.board[self.iHead] = 'O'       # place head\n",
    "        return self\n",
    "    \n",
    "    # sets apple at random empty spot\n",
    "    def setRandomApple(self):\n",
    "        newiApple = (randint(0,9), randint(0,9))\n",
    "        # make sure new apple is set to empty spot\n",
    "        while( (newiApple in self.aBody) or (newiApple == self.iHead) ):\n",
    "            newiApple = (randint(0,9), randint(0,9))\n",
    "        self.iApple = newiApple # set apple - anywhere but bottom row\n",
    "        return self\n",
    "    \n",
    "    # is in charge of moving entire snake forward one space.\n",
    "    def moveHead(self, move):\n",
    "        if self.iHead == move: # TODO: ADD CASE FOR WHEN MOVE IS SAME AS IHEAD i.e. move wasnt made\n",
    "            return self\n",
    "        hitApple = (move == self.iApple)               # True if move makes snake eat apple. False otherwise\n",
    "        hitBody = (move in self.aBody)                 # True if move makes snake hit body. False otherwise\n",
    "        # TODO: maybe add case for collision\n",
    "        #if hitBody:\n",
    "            #raise ValueError('HIT BODY - GAME OVER!')\n",
    "        \n",
    "        if not self.hitAppleOnLastMove:\n",
    "            self.aBody = [self.iHead] + self.aBody         # move front of body forward one space\n",
    "            self.aBody = self.aBody[:-1]                   # move back of body forward one space\n",
    "        if hitApple:\n",
    "            self.hitAppleOnLastMove = True\n",
    "            self.aBody = [move] + self.aBody           # add body part at move\n",
    "            self.setRandomApple()                      # move apple to new random location if apple was eatten\n",
    "        else:\n",
    "            self.hitAppleOnLastMove = False\n",
    "        \n",
    "        self.iHead = move\n",
    "        return self\n",
    "\n",
    "    \n",
    "# MOVES ------------\n",
    "    # returns valid moves (up, down, left, right) that dont cause collision\n",
    "    def getMoves(self):\n",
    "        # return ['w','s','a','d']\n",
    "        validMoves = []\n",
    "        \n",
    "        curRow = self.iHead[0]\n",
    "        curCol = self.iHead[1]\n",
    "        \n",
    "        rowUp = curRow-1 if (curRow != 0) else 9\n",
    "        rowDown = curRow+1 if (curRow != 9) else 0\n",
    "        colLeft = curCol-1 if (curCol != 0) else 9\n",
    "        colRight = curCol+1 if (curCol != 9) else 0\n",
    "        \n",
    "        if (rowUp, curCol) not in self.aBody:\n",
    "            validMoves += ['w']\n",
    "        if (rowDown, curCol) not in self.aBody:\n",
    "            validMoves += ['s']\n",
    "        if (curRow, colLeft) not in self.aBody:\n",
    "            validMoves += ['a']\n",
    "        if (curRow, colRight) not in self.aBody:\n",
    "            validMoves += ['d']\n",
    "\n",
    "        return validMoves\n",
    "    \n",
    "    def makeMove(self, move):\n",
    "        rowMove = self.iHead[0]\n",
    "        colMove = self.iHead[1]\n",
    "        \n",
    "        if move == 'q': # quit\n",
    "            raise ValueError('YOU QUIT THE GAME! SCORE:', len(self.aBody))\n",
    "            \n",
    "        elif move == 'p': # print current state of board\n",
    "            self.printState()\n",
    "            return self\n",
    "            \n",
    "        elif move == 'h': # print moves and navigation options\n",
    "            self.printMoves()\n",
    "            self.printNav()\n",
    "            return self\n",
    "        \n",
    "        elif move == 'u': # unmake last move\n",
    "            self.unmakeMove()\n",
    "            return self\n",
    "            \n",
    "        elif move == 'w': # up\n",
    "            rowMove = rowMove-1 if (rowMove != 0) else 9\n",
    "                \n",
    "        elif move == 's': # down\n",
    "            rowMove = rowMove+1 if (rowMove != 9) else 0\n",
    "                \n",
    "        elif move == 'a': # left\n",
    "            colMove = colMove-1 if (colMove != 0) else 9\n",
    "                \n",
    "        elif move == 'd': # right\n",
    "            colMove = colMove+1 if (colMove != 9) else 0\n",
    "        \n",
    "        if move in ['w', 's', 'a', 'd']:\n",
    "            self.moveHead((rowMove, colMove))\n",
    "            self.stateList = [self.getState()] + self.stateList\n",
    "            self.stateList = self.stateList[:50] # keep max of 50 states in list\n",
    "        return self\n",
    "    \n",
    "    # Will set game back one state\n",
    "    def unmakeMove(self):\n",
    "        if len(self.stateList) == 1:\n",
    "            raise ValueError(\"Snake Game Error: Cant unmake move from first state!\")\n",
    "        self.setState(self.stateList[1])\n",
    "        self.stateList = self.stateList[1:]\n",
    "        self.stateList = self.stateList[:50] # keep max of 50 states in list\n",
    "        return self\n",
    "    \n",
    "    \n",
    "# SEARCH HELPERS ---------------\n",
    "    # returns manhattan dist btw head & apple. returns big number if collisioin occured\n",
    "    def getDist(self):\n",
    "        return abs(self.iApple[0] - self.iHead[0]) + abs(self.iApple[1] - self.iHead[1])\n",
    "    \n",
    "    # Returns True if hit apple or hit body\n",
    "    def isOver(self):\n",
    "        return len(self.getMoves()) == 0\n",
    "    \n",
    "    # Utility used in negamax\n",
    "    def getUtility(self):\n",
    "        if self.hitAppleOnLastMove:\n",
    "            return 0\n",
    "        elif self.iHead in self.aBody:\n",
    "            return 9999\n",
    "        else:\n",
    "            return self.getDist()\n",
    "    \n",
    "\n",
    "# GRAPHICS -----------------\n",
    "    # Print state of game - used for debugging\n",
    "    def printState(self):\n",
    "        print('Apple is at', self.iApple)\n",
    "        print('Head is at', self.iHead)\n",
    "        print('Body is at', self.aBody)\n",
    "        \n",
    "    def printLogo(self):\n",
    "        print('████████████████████████████████████████████████████████████████████████████████████████████████████')\n",
    "        print('██████████████████████   + + + + + + + + + + + + + + + + + + + + + + + + + +  ██████████████████████')\n",
    "        print('██████████████████████   +  =======  ||\\   ||     //\\\\\\     || // ||=====   +  ██████████████████████')\n",
    "        print('██████████████████████   +  ||       ||\\\\\\  ||    //  \\\\\\    ||//  ||        +  ██████████████████████')    \n",
    "        print('██████████████████████   +  =======  || \\\\\\ ||   //====\\\\\\   ||/   ||====    +  ██████████████████████')    \n",
    "        print('██████████████████████   +        || ||  \\\\\\||  //      \\\\\\  ||\\\\\\  ||        +  ██████████████████████')    \n",
    "        print('██████████████████████   +  =======  ||   \\|| //        \\\\\\ || \\\\\\ ||=====   +  ██████████████████████')    \n",
    "        print('██████████████████████   + + + + + + + + + + + + + + + + + + + + + + O  #     ██████████████████████')\n",
    "        print('█████████████████████████████████████████████████████████████████████████████████████████████ ® 2018')\n",
    "\n",
    "\n",
    "    def printGameInfo(self):\n",
    "        info = []\n",
    "        # objective \n",
    "        info.append('█ OBJECTIVE: make snake eat apples')\n",
    "        # rules\n",
    "        info.append('\\n█ RULES: ')\n",
    "        info.append('\\t1. for every apple eatten, the snake will grow a body part')\n",
    "        info.append('\\t2. dont run into body, game over')\n",
    "        # pices\n",
    "        info.append('\\n█ PICES: ')\n",
    "        info.append('\\tsnake = \"O\"')\n",
    "        info.append('\\tapple = \"#\"')\n",
    "        info.append('\\tbody = \"+\"')\n",
    "        \n",
    "        for line in info:\n",
    "            print(line)\n",
    "        self.printMoves()\n",
    "        self.printNav()\n",
    "        return\n",
    "    \n",
    "    def printMoves(self):\n",
    "        info = []\n",
    "        # moves\n",
    "        info.append('\\n█ MOVES: note - press enter (return) after each move (change later) ')\n",
    "        info.append('\\t\"w\" - move up')\n",
    "        info.append('\\t\"s\" - move down')\n",
    "        info.append('\\t\"a\" - move left')\n",
    "        info.append('\\t\"d\" - move right')\n",
    "        for line in info:\n",
    "            print(line)\n",
    "        return\n",
    "        \n",
    "    def printNav(self):\n",
    "        info = []\n",
    "        # game navigation\n",
    "        info.append('\\n█ START GAME: \"g\"')\n",
    "        info.append('█ QUIT GAME: \"q\"')\n",
    "        info.append('█ PRINT STATE: \"p\"')\n",
    "        info.append('█ HELP: \"h\"')\n",
    "        info.append('█ RESTART GAME: \"r\"')\n",
    "        for line in info:\n",
    "            print(line)\n",
    "        return\n",
    "        \n",
    "        \n",
    "    # To string\n",
    "    def __str__(self):\n",
    "        self.setupBoard() # place all pieces on board\n",
    "        top = '______________________\\n' # should i add new line?\n",
    "        bottom = '\\n⎻⎻⎻⎻⎻⎻⎻⎻⎻⎻⎻⎻⎻⎻⎻⎻⎻⎻⎻⎻⎻⎻' # should i add new line?\n",
    "        boardData = []\n",
    "        rowIndex = 0\n",
    "        for row in self.board:\n",
    "            boardData.append('| {} {} {} {} {} {} {} {} {} {} |'.format(*row))\n",
    "            rowIndex += 1\n",
    "        printBoard = top + '\\n'.join(boardData) + bottom\n",
    "        return printBoard"
   ]
  },
  {
   "cell_type": "markdown",
   "metadata": {},
   "source": [
    "### Simple Heuristics"
   ]
  },
  {
   "cell_type": "code",
   "execution_count": 35,
   "metadata": {
    "collapsed": true
   },
   "outputs": [],
   "source": [
    "######################################################################################################################\n",
    "## simple heuristic\n",
    "######################################################################################################################\n",
    "\n",
    "# 1\n",
    "# first working simple move\n",
    "def simpleMove1(snakeGame):\n",
    "    # bestMove = 'q'\n",
    "    bestMove = 'w'\n",
    "    smallest = 999\n",
    "    \n",
    "    # save head\n",
    "    saveHead = snakeGame.iHead\n",
    "    \n",
    "    # for move in moves\n",
    "    for m in snakeGame.getMoves():\n",
    "        # save move\n",
    "        rowMove = snakeGame.iHead[0]\n",
    "        colMove = snakeGame.iHead[1]\n",
    "        \n",
    "        # set head\n",
    "        if m == 'w': # up\n",
    "            rowMove = rowMove-1 if (rowMove != 0) else 9\n",
    "        elif m == 's': # down\n",
    "            rowMove = rowMove+1 if (rowMove != 9) else 0\n",
    "        elif m == 'a': # left\n",
    "            colMove = colMove-1 if (colMove != 0) else 9\n",
    "        elif m == 'd': # right\n",
    "            colMove = colMove+1 if (colMove != 9) else 0\n",
    "        # set\n",
    "        snakeGame.iHead = (rowMove, colMove)\n",
    "        \n",
    "        \n",
    "        if snakeGame.getDist() < smallest:\n",
    "            # if dist is smaller than smallest, set smallest/bestmove\n",
    "            smallest = snakeGame.getDist()\n",
    "            bestMove = m\n",
    "        \n",
    "        # reset head\n",
    "        snakeGame.iHead = saveHead\n",
    "        \n",
    "    snakeGame.iHead = saveHead\n",
    "        \n",
    "    # return best move\n",
    "    return bestMove\n",
    "\n",
    "# 2\n",
    "# Returns list of moves orded (acending) by manhattin distance (of head to apple) achieved by making that move\n",
    "def getSimpleOrderedMoveList(snakeGame):\n",
    "    mList = snakeGame.getMoves()\n",
    "    vList = []\n",
    "    for m in mList:\n",
    "        snakeGame.makeMove(m)\n",
    "        vList = vList + [snakeGame.getUtility()]\n",
    "        snakeGame.unmakeMove()\n",
    "    return [x for _,x in sorted(zip(vList,mList))]\n",
    "\n",
    "def simpleMove2(snakeGame):\n",
    "    return getSimpleOrderedMoveList(snakeGame)[0]\n",
    "\n",
    "# 3\n",
    "# return move thats next in sequence to loop board\n",
    "def loopingMove(snakeGame):\n",
    "    #if snakeGame.iHead in [(0,0),(1,1),(2,2),(3,3),(4,4),(5,5),(6,6),(7,7),(8,8),(9,9)]\n",
    "    if snakeGame.iHead[0] == snakeGame.iHead[1]:\n",
    "        return 'd'\n",
    "    else:\n",
    "        return 'w'"
   ]
  },
  {
   "cell_type": "markdown",
   "metadata": {},
   "source": [
    "### Negamax search"
   ]
  },
  {
   "cell_type": "markdown",
   "metadata": {},
   "source": [
    "RETRY NEGAMAXIDS JUST ONCE"
   ]
  },
  {
   "cell_type": "code",
   "execution_count": 36,
   "metadata": {
    "collapsed": true
   },
   "outputs": [],
   "source": [
    "# Performs an iterative deepening negamax search.  Returns best move for current state and value assosicated\n",
    "def negamaxIDS(game, maxDepth):\n",
    "    bestValue = 999999\n",
    "    bestMove = 'q'\n",
    "    # bestMove = game.getMoves()[0]\n",
    "    for depth in range(1, maxDepth+1):\n",
    "        value, move = negamax(game, depth)\n",
    "        \n",
    "        if value == 0: # Found winning move, so return it\n",
    "            return value, move\n",
    "        elif value < bestValue: # Found a new best move\n",
    "            bestValue = value\n",
    "            bestMove = move\n",
    "\n",
    "    if bestMove == 'q' or bestMove == None:\n",
    "        return 666, simpleMove2(game)\n",
    "    else:\n",
    "        return bestValue, bestMove\n",
    "\n",
    "\n",
    "# Returns the best move for the current state of the game and the value associated\n",
    "def negamax(game, depthLeft):\n",
    "    # If at terminal state or depth limit, return utility value and move None\n",
    "    if game.isOver() or depthLeft == 0:\n",
    "        return game.getUtility(), None  # call to negamax knows the move\n",
    "\n",
    "    bestValue = 999999\n",
    "    bestMove = None\n",
    "    for move in getSimpleOrderedMoveList(game):\n",
    "        game.makeMove(move)\n",
    "        value, _ = negamax(game, depthLeft-1)\n",
    "        game.unmakeMove()\n",
    "        \n",
    "        if value < bestValue:\n",
    "            bestValue = value\n",
    "            bestMove = move\n",
    "    \n",
    "    return bestValue, bestMove"
   ]
  },
  {
   "cell_type": "markdown",
   "metadata": {},
   "source": [
    "### Negamax Alpha-Beta Pruning search"
   ]
  },
  {
   "cell_type": "code",
   "execution_count": 37,
   "metadata": {
    "collapsed": true
   },
   "outputs": [],
   "source": [
    "debug = True\n",
    "\n",
    "# negamaxIDS but with alpha beta pruning\n",
    "def negamaxIDSab(game, maxDepth, alpha = float('Inf'), beta = -float('Inf')):\n",
    "    global debug\n",
    "    bestValue = float('infinity')\n",
    "    bestMove = None\n",
    "    # bestMove = game.getMoves()[0]\n",
    "    for depth in range(1, maxDepth + 1):\n",
    "        value, move = negamaxab(game, depth)\n",
    "        if value in {None, float('Inf')}:  # removed-> , -float('Inf')\n",
    "            if debug: print('***Depth {} found {} for move {}'.format(depth, value, move))\n",
    "            continue\n",
    "        if value == 0: # game.getWinningValue():  # Found winning move, so return it\n",
    "            if debug: print('Found winning value at depth {} with move {}'.format(depth, move))\n",
    "            return value, move\n",
    "        if value < bestValue:  # Found a new best move\n",
    "            bestValue = value\n",
    "            bestMove = move\n",
    "        if debug:\n",
    "            print('Depth {} has value {} for move {}'.format(depth, value, move))\n",
    "            print('AND BestValue {} for BestMove {}.'.format(bestValue, bestMove))\n",
    "    # return best move\n",
    "    if bestMove is None:\n",
    "        return 999, simpleMove1(game)\n",
    "    else:\n",
    "        return bestValue, bestMove\n",
    "\n",
    "\n",
    "# Negamax search but with alpha beta pruning - alpha is best score so far, beta isnt used in one player game\n",
    "def negamaxab(game, depthLeft, alpha = float('Inf'), beta = -float('Inf')):\n",
    "    global debug\n",
    "    # If at terminal state or depth limit, return utility value and move None\n",
    "    if depthLeft == 0 or game.getUtility() in [0, 9999]:\n",
    "        # call to negamaxab knows the move that created terminal state so return none for move to that node\n",
    "        return game.getUtility(), None\n",
    "    # Find best move and its value from current state\n",
    "    bestValue, bestMove = None, None\n",
    "    # Swap and negate alpha beta NOTE: NOT NEEDED IN ONE PLAYER GAME\n",
    "    alpha, beta = -beta, -alpha\n",
    "    if debug:\n",
    "        print('{}\\n^Game in ngmxAB -> Depth Left: {}, alpha: {}, beta: {}'.format(game, depthLeft, alpha, beta))\n",
    "    for move in game.getMoves():\n",
    "        # Apply a move to current state\n",
    "        game.makeMove(move)\n",
    "\n",
    "        # Use depth-first search to find eventual utility value and back it up.\n",
    "        value, _ = negamaxab(game, depthLeft - 1, alpha, beta)\n",
    "\n",
    "        # Remove the move from current state, to prepare for trying a different move\n",
    "        game.unmakeMove()\n",
    "        if value is None:\n",
    "            continue\n",
    "\n",
    "        # Negate it because it will come back in context of next player\n",
    "        # value = - value\n",
    "        if bestValue is None or value < bestValue:\n",
    "            # Value for this move is better than moves tried so far from this state.\n",
    "            bestValue, bestMove = value, move\n",
    "\n",
    "        # Update alpha to minimum of bestScore and current alpha\n",
    "        alpha = min(bestValue, alpha)\n",
    "\n",
    "        if debug: print('\\tmove {} has value: {}, alpha: {}, beta: {}, bestValue: {}, bestMove: {}'.format(move, value, alpha, beta, bestValue, bestMove))\n",
    "\n",
    "        # Do early return if bestScore is less than alpha because we found a better move elsewhere\n",
    "        #if bestValue < alpha:\n",
    "        # Do early return if bestScore is greater than or equal to beta\n",
    "        if bestValue <= beta:\n",
    "            if debug:\n",
    "                print('*PRUNE FOUND AT DEPTHLEFT {}* move {}. bestValue: {}, beta: {}, bestMove: {}'.format(depthLeft, move, bestValue, beta, bestMove))\n",
    "            return bestValue, bestMove\n",
    "    return bestValue, bestMove"
   ]
  },
  {
   "cell_type": "markdown",
   "metadata": {},
   "source": [
    "Test game with user input"
   ]
  },
  {
   "cell_type": "code",
   "execution_count": 156,
   "metadata": {},
   "outputs": [
    {
     "name": "stdout",
     "output_type": "stream",
     "text": [
      "______________________\n",
      "|                     |\n",
      "|           O +       |\n",
      "|             + #     |\n",
      "|             +       |\n",
      "|                     |\n",
      "|                     |\n",
      "|                     |\n",
      "|                     |\n",
      "|                     |\n",
      "|                     |\n",
      "⎻⎻⎻⎻⎻⎻⎻⎻⎻⎻⎻⎻⎻⎻⎻⎻⎻⎻⎻⎻⎻⎻\n",
      "Valid moves: ['w', 's', 'a']\n",
      "Simple Move 1 Suggests: s\n",
      "Simple Move 2 Suggests: s\n",
      "NegamaxIDS depth 0 Suggests: (666, 'a')\n",
      "NegamaxIDS depth 1 Suggests: (2, 'a')\n",
      "NegamaxIDS depth 5 Suggests: (1, 'a')\n"
     ]
    },
    {
     "ename": "KeyboardInterrupt",
     "evalue": "",
     "output_type": "error",
     "traceback": [
      "\u001b[0;31m---------------------------------------------------------------------------\u001b[0m",
      "\u001b[0;31mKeyboardInterrupt\u001b[0m                         Traceback (most recent call last)",
      "\u001b[0;32m/Users/zachgoodenow/anaconda/lib/python3.6/site-packages/ipykernel/kernelbase.py\u001b[0m in \u001b[0;36m_input_request\u001b[0;34m(self, prompt, ident, parent, password)\u001b[0m\n\u001b[1;32m    729\u001b[0m             \u001b[0;32mtry\u001b[0m\u001b[0;34m:\u001b[0m\u001b[0;34m\u001b[0m\u001b[0m\n\u001b[0;32m--> 730\u001b[0;31m                 \u001b[0mident\u001b[0m\u001b[0;34m,\u001b[0m \u001b[0mreply\u001b[0m \u001b[0;34m=\u001b[0m \u001b[0mself\u001b[0m\u001b[0;34m.\u001b[0m\u001b[0msession\u001b[0m\u001b[0;34m.\u001b[0m\u001b[0mrecv\u001b[0m\u001b[0;34m(\u001b[0m\u001b[0mself\u001b[0m\u001b[0;34m.\u001b[0m\u001b[0mstdin_socket\u001b[0m\u001b[0;34m,\u001b[0m \u001b[0;36m0\u001b[0m\u001b[0;34m)\u001b[0m\u001b[0;34m\u001b[0m\u001b[0m\n\u001b[0m\u001b[1;32m    731\u001b[0m             \u001b[0;32mexcept\u001b[0m \u001b[0mException\u001b[0m\u001b[0;34m:\u001b[0m\u001b[0;34m\u001b[0m\u001b[0m\n",
      "\u001b[0;32m/Users/zachgoodenow/anaconda/lib/python3.6/site-packages/jupyter_client/session.py\u001b[0m in \u001b[0;36mrecv\u001b[0;34m(self, socket, mode, content, copy)\u001b[0m\n\u001b[1;32m    777\u001b[0m         \u001b[0;32mtry\u001b[0m\u001b[0;34m:\u001b[0m\u001b[0;34m\u001b[0m\u001b[0m\n\u001b[0;32m--> 778\u001b[0;31m             \u001b[0mmsg_list\u001b[0m \u001b[0;34m=\u001b[0m \u001b[0msocket\u001b[0m\u001b[0;34m.\u001b[0m\u001b[0mrecv_multipart\u001b[0m\u001b[0;34m(\u001b[0m\u001b[0mmode\u001b[0m\u001b[0;34m,\u001b[0m \u001b[0mcopy\u001b[0m\u001b[0;34m=\u001b[0m\u001b[0mcopy\u001b[0m\u001b[0;34m)\u001b[0m\u001b[0;34m\u001b[0m\u001b[0m\n\u001b[0m\u001b[1;32m    779\u001b[0m         \u001b[0;32mexcept\u001b[0m \u001b[0mzmq\u001b[0m\u001b[0;34m.\u001b[0m\u001b[0mZMQError\u001b[0m \u001b[0;32mas\u001b[0m \u001b[0me\u001b[0m\u001b[0;34m:\u001b[0m\u001b[0;34m\u001b[0m\u001b[0m\n",
      "\u001b[0;32m/Users/zachgoodenow/anaconda/lib/python3.6/site-packages/zmq/sugar/socket.py\u001b[0m in \u001b[0;36mrecv_multipart\u001b[0;34m(self, flags, copy, track)\u001b[0m\n\u001b[1;32m    394\u001b[0m         \"\"\"\n\u001b[0;32m--> 395\u001b[0;31m         \u001b[0mparts\u001b[0m \u001b[0;34m=\u001b[0m \u001b[0;34m[\u001b[0m\u001b[0mself\u001b[0m\u001b[0;34m.\u001b[0m\u001b[0mrecv\u001b[0m\u001b[0;34m(\u001b[0m\u001b[0mflags\u001b[0m\u001b[0;34m,\u001b[0m \u001b[0mcopy\u001b[0m\u001b[0;34m=\u001b[0m\u001b[0mcopy\u001b[0m\u001b[0;34m,\u001b[0m \u001b[0mtrack\u001b[0m\u001b[0;34m=\u001b[0m\u001b[0mtrack\u001b[0m\u001b[0;34m)\u001b[0m\u001b[0;34m]\u001b[0m\u001b[0;34m\u001b[0m\u001b[0m\n\u001b[0m\u001b[1;32m    396\u001b[0m         \u001b[0;31m# have first part already, only loop while more to receive\u001b[0m\u001b[0;34m\u001b[0m\u001b[0;34m\u001b[0m\u001b[0m\n",
      "\u001b[0;32mzmq/backend/cython/socket.pyx\u001b[0m in \u001b[0;36mzmq.backend.cython.socket.Socket.recv (zmq/backend/cython/socket.c:7683)\u001b[0;34m()\u001b[0m\n",
      "\u001b[0;32mzmq/backend/cython/socket.pyx\u001b[0m in \u001b[0;36mzmq.backend.cython.socket.Socket.recv (zmq/backend/cython/socket.c:7460)\u001b[0;34m()\u001b[0m\n",
      "\u001b[0;32mzmq/backend/cython/socket.pyx\u001b[0m in \u001b[0;36mzmq.backend.cython.socket._recv_copy (zmq/backend/cython/socket.c:2344)\u001b[0;34m()\u001b[0m\n",
      "\u001b[0;32m/Users/zachgoodenow/anaconda/lib/python3.6/site-packages/zmq/backend/cython/checkrc.pxd\u001b[0m in \u001b[0;36mzmq.backend.cython.checkrc._check_rc (zmq/backend/cython/socket.c:9621)\u001b[0;34m()\u001b[0m\n",
      "\u001b[0;31mKeyboardInterrupt\u001b[0m: ",
      "\nDuring handling of the above exception, another exception occurred:\n",
      "\u001b[0;31mKeyboardInterrupt\u001b[0m                         Traceback (most recent call last)",
      "\u001b[0;32m<ipython-input-156-6f0de03161da>\u001b[0m in \u001b[0;36m<module>\u001b[0;34m()\u001b[0m\n\u001b[1;32m     20\u001b[0m     \u001b[0;31m#print(\"NegamaxIDS depth 10 Suggests:\", negamaxIDS(snakeGame, 10))\u001b[0m\u001b[0;34m\u001b[0m\u001b[0;34m\u001b[0m\u001b[0m\n\u001b[1;32m     21\u001b[0m \u001b[0;34m\u001b[0m\u001b[0m\n\u001b[0;32m---> 22\u001b[0;31m     \u001b[0mmove\u001b[0m \u001b[0;34m=\u001b[0m \u001b[0minput\u001b[0m\u001b[0;34m(\u001b[0m\u001b[0;34m)\u001b[0m\u001b[0;34m\u001b[0m\u001b[0m\n\u001b[0m\u001b[1;32m     23\u001b[0m     \u001b[0;31m#move = simpleMove1(snakeGame) # nearest manhatten heuristic\u001b[0m\u001b[0;34m\u001b[0m\u001b[0;34m\u001b[0m\u001b[0m\n\u001b[1;32m     24\u001b[0m     \u001b[0;31m#value, move = negamaxIDS(snakeGame, 3) # negamax Itterative Deepening Search\u001b[0m\u001b[0;34m\u001b[0m\u001b[0;34m\u001b[0m\u001b[0m\n",
      "\u001b[0;32m/Users/zachgoodenow/anaconda/lib/python3.6/site-packages/ipykernel/kernelbase.py\u001b[0m in \u001b[0;36mraw_input\u001b[0;34m(self, prompt)\u001b[0m\n\u001b[1;32m    703\u001b[0m             \u001b[0mself\u001b[0m\u001b[0;34m.\u001b[0m\u001b[0m_parent_ident\u001b[0m\u001b[0;34m,\u001b[0m\u001b[0;34m\u001b[0m\u001b[0m\n\u001b[1;32m    704\u001b[0m             \u001b[0mself\u001b[0m\u001b[0;34m.\u001b[0m\u001b[0m_parent_header\u001b[0m\u001b[0;34m,\u001b[0m\u001b[0;34m\u001b[0m\u001b[0m\n\u001b[0;32m--> 705\u001b[0;31m             \u001b[0mpassword\u001b[0m\u001b[0;34m=\u001b[0m\u001b[0;32mFalse\u001b[0m\u001b[0;34m,\u001b[0m\u001b[0;34m\u001b[0m\u001b[0m\n\u001b[0m\u001b[1;32m    706\u001b[0m         )\n\u001b[1;32m    707\u001b[0m \u001b[0;34m\u001b[0m\u001b[0m\n",
      "\u001b[0;32m/Users/zachgoodenow/anaconda/lib/python3.6/site-packages/ipykernel/kernelbase.py\u001b[0m in \u001b[0;36m_input_request\u001b[0;34m(self, prompt, ident, parent, password)\u001b[0m\n\u001b[1;32m    733\u001b[0m             \u001b[0;32mexcept\u001b[0m \u001b[0mKeyboardInterrupt\u001b[0m\u001b[0;34m:\u001b[0m\u001b[0;34m\u001b[0m\u001b[0m\n\u001b[1;32m    734\u001b[0m                 \u001b[0;31m# re-raise KeyboardInterrupt, to truncate traceback\u001b[0m\u001b[0;34m\u001b[0m\u001b[0;34m\u001b[0m\u001b[0m\n\u001b[0;32m--> 735\u001b[0;31m                 \u001b[0;32mraise\u001b[0m \u001b[0mKeyboardInterrupt\u001b[0m\u001b[0;34m\u001b[0m\u001b[0m\n\u001b[0m\u001b[1;32m    736\u001b[0m             \u001b[0;32melse\u001b[0m\u001b[0;34m:\u001b[0m\u001b[0;34m\u001b[0m\u001b[0m\n\u001b[1;32m    737\u001b[0m                 \u001b[0;32mbreak\u001b[0m\u001b[0;34m\u001b[0m\u001b[0m\n",
      "\u001b[0;31mKeyboardInterrupt\u001b[0m: "
     ]
    }
   ],
   "source": [
    "UIgame = Snake()                # init\n",
    "UIgame.printLogo()              # logo\n",
    "UIgame.printGameInfo()          # how to play\n",
    "\n",
    "move = input()\n",
    "\n",
    "if move in ['q', 'Q']: # want to quit?\n",
    "    UIgame.makeMove(move)\n",
    "clear_output()\n",
    "\n",
    "# game loop\n",
    "while(not UIgame.isOver()):\n",
    "    print(UIgame)\n",
    "    print(\"Valid moves:\", UIgame.getMoves())\n",
    "    print(\"Simple Move 1 Suggests:\", simpleMove1(UIgame))\n",
    "    print(\"Simple Move 2 Suggests:\", simpleMove2(UIgame))\n",
    "    print(\"NegamaxIDS depth 0 Suggests:\", negamaxIDS(snakeGame, 0))\n",
    "    print(\"NegamaxIDS depth 1 Suggests:\", negamaxIDS(snakeGame, 1))\n",
    "    print(\"NegamaxIDS depth 5 Suggests:\", negamaxIDS(snakeGame, 5))\n",
    "    #print(\"NegamaxIDS depth 10 Suggests:\", negamaxIDS(snakeGame, 10))\n",
    "\n",
    "    move = input()\n",
    "    #move = simpleMove1(snakeGame) # nearest manhatten heuristic\n",
    "    #value, move = negamaxIDS(snakeGame, 3) # negamax Itterative Deepening Search\n",
    "    #value, move = negamaxIDSab(snakeGame, 10) # negamax Itterative Deepening Search with alpha pruning\n",
    "    if move in ['b', 'n', 'N', 'no', 'No', 'NO']:\n",
    "        break\n",
    "    \n",
    "    UIgame.makeMove(move)\n",
    "    clear_output()\n",
    "print('game over')"
   ]
  },
  {
   "cell_type": "markdown",
   "metadata": {},
   "source": [
    "### Function to play game"
   ]
  },
  {
   "cell_type": "code",
   "execution_count": 161,
   "metadata": {
    "collapsed": true
   },
   "outputs": [],
   "source": [
    "from IPython.display import clear_output\n",
    "import time\n",
    "\n",
    "def startSnake(restarted = False):\n",
    "    snakeGame = Snake()                # init\n",
    "    if not restarted:\n",
    "        snakeGame.printLogo()          # logo\n",
    "        snakeGame.printGameInfo()      # how to play\n",
    "    else:\n",
    "        print(snakeGame)\n",
    "    \n",
    "    move = input()\n",
    "    \n",
    "    if move in ['q', 'Q']:\n",
    "        snakeGame.makeMove(move)\n",
    "    \n",
    "    if not restarted:\n",
    "        clear_output()\n",
    "    # game loop\n",
    "    while(not snakeGame.isOver()):#while(True):\n",
    "        if move == 'r': # restart\n",
    "            startSnake(True)\n",
    "        print(snakeGame)\n",
    "        print(\"State:\", snakeGame.getState())\n",
    "        print(\"Hit apple on last?\", snakeGame.hitAppleOnLastMove)\n",
    "        #print('Simple move suggests:', simpleMove(snakeGame))\n",
    "        #move = input()\n",
    "        #move = loopingMove(snakeGame)\n",
    "        #move = simpleMove1(snakeGame) # nearest manhatten heuristic\n",
    "        #move = simpleMove2(snakeGame) # nearest manhatten heuristic\n",
    "        value, move = negamaxIDS(snakeGame, 5) # negamax Itterative Deepening Search\n",
    "        #value, move = negamaxIDSab(snakeGame, 10) # negamax Itterative Deepening Search with alpha pruning\n",
    "        if move in ['b', 'n', 'N', 'no', 'No', 'NO']:\n",
    "            break\n",
    "        snakeGame.makeMove(move)\n",
    "        # check to continue every 100 apples eatten\n",
    "        if len(snakeGame.aBody) > 0 and len(snakeGame.aBody) % 100 == 0: \n",
    "            print(snakeGame)\n",
    "            snakeGame.printState()\n",
    "            move = input(\"would you like to continue \")\n",
    "            \n",
    "        #if move != 'p': \n",
    "        #    clear_output()\n",
    "        time.sleep(0.5) # wait for N seconds to replacate frames per second (FPS) - NOT NEEDED WHEN USER INPUT\n",
    "        clear_output()\n",
    "    print('Game over! Score: ', snakeGame.getBodyLength())\n",
    "    return"
   ]
  },
  {
   "cell_type": "code",
   "execution_count": 162,
   "metadata": {
    "scrolled": false
   },
   "outputs": [
    {
     "name": "stdout",
     "output_type": "stream",
     "text": [
      "______________________\n",
      "|               + +   |\n",
      "|               +     |\n",
      "|               +     |\n",
      "| + +           + + + |\n",
      "|                     |\n",
      "| + +       + + + +   |\n",
      "| + +       +     +   |\n",
      "| O +       +     + + |\n",
      "| + +       +       + |\n",
      "| #         + + + +   |\n",
      "⎻⎻⎻⎻⎻⎻⎻⎻⎻⎻⎻⎻⎻⎻⎻⎻⎻⎻⎻⎻⎻⎻\n",
      "State: ((9, 0), (7, 0), ((6, 0), (5, 0), (5, 1), (6, 1), (7, 1), (8, 1), (8, 0), (8, 9), (7, 9), (7, 8), (6, 8), (5, 8), (5, 7), (5, 6), (5, 5), (6, 5), (7, 5), (8, 5), (9, 5), (9, 6), (9, 7), (9, 8), (0, 8), (0, 7), (1, 7), (2, 7), (3, 7), (3, 8), (3, 9), (3, 0), (3, 1)), False)\n",
      "Hit apple on last? False\n"
     ]
    },
    {
     "ename": "IndexError",
     "evalue": "list index out of range",
     "output_type": "error",
     "traceback": [
      "\u001b[0;31m---------------------------------------------------------------------------\u001b[0m",
      "\u001b[0;31mIndexError\u001b[0m                                Traceback (most recent call last)",
      "\u001b[0;32m<ipython-input-162-fa5e58adeb65>\u001b[0m in \u001b[0;36m<module>\u001b[0;34m()\u001b[0m\n\u001b[0;32m----> 1\u001b[0;31m \u001b[0mstartSnake\u001b[0m\u001b[0;34m(\u001b[0m\u001b[0;34m)\u001b[0m\u001b[0;34m\u001b[0m\u001b[0m\n\u001b[0m",
      "\u001b[0;32m<ipython-input-161-c31290fdf8ef>\u001b[0m in \u001b[0;36mstartSnake\u001b[0;34m(restarted)\u001b[0m\n\u001b[1;32m     28\u001b[0m         \u001b[0;31m#move = simpleMove1(snakeGame) # nearest manhatten heuristic\u001b[0m\u001b[0;34m\u001b[0m\u001b[0;34m\u001b[0m\u001b[0m\n\u001b[1;32m     29\u001b[0m         \u001b[0;31m#move = simpleMove2(snakeGame) # nearest manhatten heuristic\u001b[0m\u001b[0;34m\u001b[0m\u001b[0;34m\u001b[0m\u001b[0m\n\u001b[0;32m---> 30\u001b[0;31m         \u001b[0mvalue\u001b[0m\u001b[0;34m,\u001b[0m \u001b[0mmove\u001b[0m \u001b[0;34m=\u001b[0m \u001b[0mnegamaxIDS\u001b[0m\u001b[0;34m(\u001b[0m\u001b[0msnakeGame\u001b[0m\u001b[0;34m,\u001b[0m \u001b[0;36m5\u001b[0m\u001b[0;34m)\u001b[0m \u001b[0;31m# negamax Itterative Deepening Search\u001b[0m\u001b[0;34m\u001b[0m\u001b[0m\n\u001b[0m\u001b[1;32m     31\u001b[0m         \u001b[0;31m#value, move = negamaxIDSab(snakeGame, 10) # negamax Itterative Deepening Search with alpha pruning\u001b[0m\u001b[0;34m\u001b[0m\u001b[0;34m\u001b[0m\u001b[0m\n\u001b[1;32m     32\u001b[0m         \u001b[0;32mif\u001b[0m \u001b[0mmove\u001b[0m \u001b[0;32min\u001b[0m \u001b[0;34m[\u001b[0m\u001b[0;34m'b'\u001b[0m\u001b[0;34m,\u001b[0m \u001b[0;34m'n'\u001b[0m\u001b[0;34m,\u001b[0m \u001b[0;34m'N'\u001b[0m\u001b[0;34m,\u001b[0m \u001b[0;34m'no'\u001b[0m\u001b[0;34m,\u001b[0m \u001b[0;34m'No'\u001b[0m\u001b[0;34m,\u001b[0m \u001b[0;34m'NO'\u001b[0m\u001b[0;34m]\u001b[0m\u001b[0;34m:\u001b[0m\u001b[0;34m\u001b[0m\u001b[0m\n",
      "\u001b[0;32m<ipython-input-160-899db8e575c4>\u001b[0m in \u001b[0;36mnegamaxIDS\u001b[0;34m(game, maxDepth)\u001b[0m\n\u001b[1;32m     23\u001b[0m             \u001b[0mprint\u001b[0m\u001b[0;34m(\u001b[0m\u001b[0;34m'AND BestValue {} for BestMove {}'\u001b[0m\u001b[0;34m.\u001b[0m\u001b[0mformat\u001b[0m\u001b[0;34m(\u001b[0m\u001b[0mbestValue\u001b[0m\u001b[0;34m,\u001b[0m \u001b[0mbestMove\u001b[0m\u001b[0;34m)\u001b[0m\u001b[0;34m)\u001b[0m\u001b[0;34m\u001b[0m\u001b[0m\n\u001b[1;32m     24\u001b[0m     \u001b[0;32mif\u001b[0m \u001b[0mbestMove\u001b[0m \u001b[0;34m==\u001b[0m \u001b[0;34m'q'\u001b[0m \u001b[0;32mor\u001b[0m \u001b[0mbestMove\u001b[0m \u001b[0;34m==\u001b[0m \u001b[0;32mNone\u001b[0m\u001b[0;34m:\u001b[0m\u001b[0;34m\u001b[0m\u001b[0m\n\u001b[0;32m---> 25\u001b[0;31m         \u001b[0;32mreturn\u001b[0m \u001b[0;36m666\u001b[0m\u001b[0;34m,\u001b[0m \u001b[0msimpleMove2\u001b[0m\u001b[0;34m(\u001b[0m\u001b[0mgame\u001b[0m\u001b[0;34m)\u001b[0m\u001b[0;34m\u001b[0m\u001b[0m\n\u001b[0m\u001b[1;32m     26\u001b[0m     \u001b[0;32melse\u001b[0m\u001b[0;34m:\u001b[0m\u001b[0;34m\u001b[0m\u001b[0m\n\u001b[1;32m     27\u001b[0m         \u001b[0;32mreturn\u001b[0m \u001b[0mbestValue\u001b[0m\u001b[0;34m,\u001b[0m \u001b[0mbestMove\u001b[0m\u001b[0;34m\u001b[0m\u001b[0m\n",
      "\u001b[0;32m<ipython-input-120-caa3265cc6fb>\u001b[0m in \u001b[0;36msimpleMove2\u001b[0;34m(snakeGame)\u001b[0m\n\u001b[1;32m    117\u001b[0m \u001b[0;34m\u001b[0m\u001b[0m\n\u001b[1;32m    118\u001b[0m \u001b[0;32mdef\u001b[0m \u001b[0msimpleMove2\u001b[0m\u001b[0;34m(\u001b[0m\u001b[0msnakeGame\u001b[0m\u001b[0;34m)\u001b[0m\u001b[0;34m:\u001b[0m\u001b[0;34m\u001b[0m\u001b[0m\n\u001b[0;32m--> 119\u001b[0;31m     \u001b[0;32mreturn\u001b[0m \u001b[0mgetSimpleOrderedMoveList\u001b[0m\u001b[0;34m(\u001b[0m\u001b[0msnakeGame\u001b[0m\u001b[0;34m)\u001b[0m\u001b[0;34m[\u001b[0m\u001b[0;36m0\u001b[0m\u001b[0;34m]\u001b[0m\u001b[0;34m\u001b[0m\u001b[0m\n\u001b[0m\u001b[1;32m    120\u001b[0m \u001b[0;34m\u001b[0m\u001b[0m\n\u001b[1;32m    121\u001b[0m \u001b[0;31m# return move thats next in sequence to loop board\u001b[0m\u001b[0;34m\u001b[0m\u001b[0;34m\u001b[0m\u001b[0m\n",
      "\u001b[0;31mIndexError\u001b[0m: list index out of range"
     ]
    }
   ],
   "source": [
    "startSnake()"
   ]
  },
  {
   "cell_type": "code",
   "execution_count": null,
   "metadata": {
    "collapsed": true
   },
   "outputs": [],
   "source": [
    "\n",
    "\n",
    "\n",
    "\n",
    "\n",
    "\n",
    "\n",
    "\n",
    "\n",
    "\n",
    "\n",
    "\n",
    "\n",
    "\n",
    "\n",
    "\n",
    "\n",
    "\n",
    "\n",
    "\n",
    "\n",
    "\n",
    "\n",
    "\n",
    "\n",
    "\n",
    "\n",
    "\n",
    "\n",
    "\n",
    "\n",
    "\n",
    "\n",
    "\n",
    "\n",
    "\n",
    "\n"
   ]
  },
  {
   "cell_type": "code",
   "execution_count": 589,
   "metadata": {},
   "outputs": [
    {
     "data": {
      "text/plain": [
       "(1, 2)"
      ]
     },
     "execution_count": 589,
     "metadata": {},
     "output_type": "execute_result"
    }
   ],
   "source": [
    "\n",
    "\n",
    "\n",
    "\n",
    "\n",
    "\n",
    "\n",
    "\n",
    "\n",
    "\n",
    "\n",
    "\n",
    "\n",
    "\n",
    "\n",
    "\n",
    "\n",
    "\n",
    "\n",
    "\n",
    "\n",
    "\n",
    "\n",
    "\n",
    "\n",
    "\n",
    "\n",
    "\n",
    "\n",
    "\n",
    "\n",
    "\n",
    "\n",
    "\n",
    "\n",
    "\n",
    "\n",
    "\n",
    "\n",
    "\n"
   ]
  },
  {
   "cell_type": "markdown",
   "metadata": {},
   "source": [
    "## Analyze heuristics"
   ]
  },
  {
   "cell_type": "code",
   "execution_count": 58,
   "metadata": {
    "collapsed": true
   },
   "outputs": [],
   "source": [
    "# play game once until game over, return score (i.e. apples eatten i.e. body length)\n",
    "def playSnake(player, trace = False):\n",
    "    snakeGame = Snake()                # init\n",
    "    if trace:\n",
    "        print(snakeGame)\n",
    "        print('Moves:', snakeGame.getMoves())\n",
    "    # game loop\n",
    "    while(not snakeGame.isOver()):\n",
    "        \n",
    "        move = player(snakeGame)\n",
    "        if trace: clear_output()\n",
    "        snakeGame.makeMove(move)\n",
    "        if trace:\n",
    "            print(snakeGame)\n",
    "            print('Moves:', snakeGame.getMoves())\n",
    "            time.sleep(0.5)\n",
    "    clear_output()\n",
    "    print(snakeGame)\n",
    "    print(\"Score:\", snakeGame.getBodyLength())\n",
    "    return snakeGame.getBodyLength()"
   ]
  },
  {
   "cell_type": "code",
   "execution_count": 59,
   "metadata": {},
   "outputs": [
    {
     "name": "stdout",
     "output_type": "stream",
     "text": [
      "______________________\n",
      "|                     |\n",
      "|                     |\n",
      "|                     |\n",
      "|                     |\n",
      "| + + + + +           |\n",
      "| + + +   +           |\n",
      "| + O + + +           |\n",
      "| + + + + + +         |\n",
      "|     #     + +       |\n",
      "|                     |\n",
      "⎻⎻⎻⎻⎻⎻⎻⎻⎻⎻⎻⎻⎻⎻⎻⎻⎻⎻⎻⎻⎻⎻\n",
      "Score: 21\n"
     ]
    },
    {
     "data": {
      "text/plain": [
       "21"
      ]
     },
     "execution_count": 59,
     "metadata": {},
     "output_type": "execute_result"
    }
   ],
   "source": [
    "#playScore = playSnake(input)\n",
    "playScore = playSnake(simpleMove1)\n",
    "playScore"
   ]
  },
  {
   "cell_type": "code",
   "execution_count": 60,
   "metadata": {},
   "outputs": [
    {
     "name": "stdout",
     "output_type": "stream",
     "text": [
      "______________________\n",
      "|   + + +             |\n",
      "|   +                 |\n",
      "|   +                 |\n",
      "|   +                 |\n",
      "|   +       + +       |\n",
      "|   + + +   +         |\n",
      "| # + + +   +         |\n",
      "|   + + +   +         |\n",
      "| + + + +   +         |\n",
      "| + O + +   + + + + + |\n",
      "⎻⎻⎻⎻⎻⎻⎻⎻⎻⎻⎻⎻⎻⎻⎻⎻⎻⎻⎻⎻⎻⎻\n",
      "Score: 34\n",
      "simpleMove1 - avgScore: 24.5  HighScore: 34\n",
      "\t\tavgTime: 6.8  HighTime: 9  sumTime: 68\n"
     ]
    }
   ],
   "source": [
    "scoreList = []\n",
    "timeList = []\n",
    "for i in range(10):\n",
    "    sTime = current_milli_time()\n",
    "    scoreList += [playSnake(simpleMove1)]\n",
    "    timeList = timeList + [current_milli_time() - sTime]\n",
    "avgScore = sum(scoreList) / len(scoreList)\n",
    "avgTime = sum(timeList) / len(timeList)\n",
    "print(\"simpleMove1 - avgScore:\",avgScore,\" HighScore:\", max(scoreList))\n",
    "print(\"\\t\\tavgTime:\",avgTime,\" HighTime:\", max(timeList),\" sumTime:\",sum(timeList))"
   ]
  },
  {
   "cell_type": "code",
   "execution_count": 61,
   "metadata": {},
   "outputs": [
    {
     "name": "stdout",
     "output_type": "stream",
     "text": [
      "______________________\n",
      "|                     |\n",
      "|   + + +             |\n",
      "|   + + +             |\n",
      "|   + O +             |\n",
      "|   + + +             |\n",
      "|                     |\n",
      "|                     |\n",
      "|       #             |\n",
      "|                     |\n",
      "|                     |\n",
      "⎻⎻⎻⎻⎻⎻⎻⎻⎻⎻⎻⎻⎻⎻⎻⎻⎻⎻⎻⎻⎻⎻\n",
      "Score: 11\n",
      "simpleMove2 - avgScore: 22.2  HighScore: 39\n",
      "\t\tavgTime: 13.2  HighTime: 21  sumTime: 132\n"
     ]
    }
   ],
   "source": [
    "scoreList = []\n",
    "timeList = []\n",
    "for i in range(10):\n",
    "    sTime = current_milli_time()\n",
    "    scoreList += [playSnake(simpleMove2)]\n",
    "    timeList = timeList + [current_milli_time() - sTime]\n",
    "avgScore = sum(scoreList) / len(scoreList)\n",
    "avgTime = sum(timeList) / len(timeList)\n",
    "print(\"simpleMove2 - avgScore:\",avgScore,\" HighScore:\", max(scoreList))\n",
    "print(\"\\t\\tavgTime:\",avgTime,\" HighTime:\", max(timeList),\" sumTime:\",sum(timeList))"
   ]
  },
  {
   "cell_type": "code",
   "execution_count": null,
   "metadata": {},
   "outputs": [],
   "source": [
    "scoreList = []\n",
    "for i in range(1):\n",
    "    scoreList += [playSnake(loopingMove, True)]\n",
    "avgScore = sum(scoreList) / len(scoreList)\n",
    "avgScore"
   ]
  },
  {
   "cell_type": "code",
   "execution_count": 41,
   "metadata": {
    "collapsed": true
   },
   "outputs": [],
   "source": [
    "# play game once until game over, return score (i.e. apples eatten i.e. body length)\n",
    "def playSnake4IDS(depth, trace = False):\n",
    "    snakeGame = Snake()                # init\n",
    "    if trace:\n",
    "        print(snakeGame)\n",
    "        print('Moves:', snakeGame.getMoves())\n",
    "    # game loop\n",
    "    while(not snakeGame.isOver()):\n",
    "        value, move = negamaxIDS(snakeGame, depth) # negamax Itterative Deepening Search\n",
    "        #value, move = negamaxIDSab(snakeGame, 10) # negamax Itterative Deepening Search with alpha pruning\n",
    "        if trace: clear_output()\n",
    "        snakeGame.makeMove(move)\n",
    "        if trace:\n",
    "            print(snakeGame)\n",
    "            time.sleep(0.5)\n",
    "    clear_output()\n",
    "    print(snakeGame)\n",
    "    print(\"Score:\", snakeGame.getBodyLength())\n",
    "    return snakeGame.getBodyLength()"
   ]
  },
  {
   "cell_type": "code",
   "execution_count": 51,
   "metadata": {},
   "outputs": [
    {
     "name": "stdout",
     "output_type": "stream",
     "text": [
      "______________________\n",
      "| #               +   |\n",
      "|                 +   |\n",
      "|                 +   |\n",
      "| + + + + + + + + + + |\n",
      "| O + +     + + + + + |\n",
      "| +         + + + +   |\n",
      "| +               + + |\n",
      "|                     |\n",
      "|                     |\n",
      "|             + + +   |\n",
      "⎻⎻⎻⎻⎻⎻⎻⎻⎻⎻⎻⎻⎻⎻⎻⎻⎻⎻⎻⎻⎻⎻\n",
      "Score: 31\n",
      "IDS Depth 3 - avgScore: 24.4  HighScore: 37\n",
      "\t\tavgTime: 134.7  HighTime: 220  sumTime: 1347\n"
     ]
    }
   ],
   "source": [
    "scoreList = []\n",
    "timeList = []\n",
    "for i in range(10):\n",
    "    sTime = current_milli_time()\n",
    "    scoreList += [playSnake4IDS(3)]\n",
    "    timeList = timeList + [current_milli_time() - sTime]\n",
    "avgScore = sum(scoreList) / len(scoreList)\n",
    "avgTime = sum(timeList) / len(timeList)\n",
    "print(\"IDS Depth 3 - avgScore:\",avgScore,\" HighScore:\", max(scoreList))\n",
    "print(\"\\t\\tavgTime:\",avgTime,\" HighTime:\", max(timeList),\" sumTime:\",sum(timeList))"
   ]
  },
  {
   "cell_type": "code",
   "execution_count": 52,
   "metadata": {},
   "outputs": [
    {
     "name": "stdout",
     "output_type": "stream",
     "text": [
      "______________________\n",
      "| + + +               |\n",
      "| + O + #       + +   |\n",
      "| + + + + + + + + +   |\n",
      "| + + + +       + +   |\n",
      "| + + + +       +   + |\n",
      "|   + + +       + + + |\n",
      "|       + + + +       |\n",
      "|         + + +       |\n",
      "|                     |\n",
      "|                     |\n",
      "⎻⎻⎻⎻⎻⎻⎻⎻⎻⎻⎻⎻⎻⎻⎻⎻⎻⎻⎻⎻⎻⎻\n",
      "Score: 41\n",
      "IDS Depth 5 - avgScore: 35.1  HighScore: 41\n",
      "\t\tavgTime: 718.3  HighTime: 1006  sumTime: 7183\n"
     ]
    }
   ],
   "source": [
    "scoreList = []\n",
    "timeList = []\n",
    "for i in range(10):\n",
    "    sTime = current_milli_time()\n",
    "    scoreList += [playSnake4IDS(5)]\n",
    "    timeList = timeList + [current_milli_time() - sTime]\n",
    "avgScore = sum(scoreList) / len(scoreList)\n",
    "avgTime = sum(timeList) / len(timeList)\n",
    "print(\"IDS Depth 5 - avgScore:\",avgScore,\" HighScore:\", max(scoreList))\n",
    "print(\"\\t\\tavgTime:\",avgTime,\" HighTime:\", max(timeList),\" sumTime:\",sum(timeList))"
   ]
  },
  {
   "cell_type": "code",
   "execution_count": 53,
   "metadata": {},
   "outputs": [
    {
     "name": "stdout",
     "output_type": "stream",
     "text": [
      "______________________\n",
      "| + + # + + + + +   + |\n",
      "| O + + + + +       + |\n",
      "| + + +             + |\n",
      "|     + + + + + +     |\n",
      "|               +     |\n",
      "| + + + + + + + +     |\n",
      "| +                   |\n",
      "| +         + + +     |\n",
      "| + + + +   + + +     |\n",
      "| + +   + + + + +   + |\n",
      "⎻⎻⎻⎻⎻⎻⎻⎻⎻⎻⎻⎻⎻⎻⎻⎻⎻⎻⎻⎻⎻⎻\n",
      "Score: 53\n",
      "IDS Depth 7 - avgScore: 36.4  HighScore: 53\n",
      "\t\tavgTime: 2133.5  HighTime: 3075  sumTime: 21335\n"
     ]
    }
   ],
   "source": [
    "scoreList = []\n",
    "timeList = []\n",
    "for i in range(10):\n",
    "    sTime = current_milli_time()\n",
    "    scoreList += [playSnake4IDS(7)]\n",
    "    timeList = timeList + [current_milli_time() - sTime]\n",
    "avgScore = sum(scoreList) / len(scoreList)\n",
    "avgTime = sum(timeList) / len(timeList)\n",
    "print(\"IDS Depth 7 - avgScore:\",avgScore,\" HighScore:\", max(scoreList))\n",
    "print(\"\\t\\tavgTime:\",avgTime,\" HighTime:\", max(timeList),\" sumTime:\",sum(timeList))"
   ]
  },
  {
   "cell_type": "code",
   "execution_count": 54,
   "metadata": {},
   "outputs": [
    {
     "name": "stdout",
     "output_type": "stream",
     "text": [
      "______________________\n",
      "|         + O +       |\n",
      "|         + + +       |\n",
      "|     #   + +         |\n",
      "|         +           |\n",
      "|         +           |\n",
      "|         +           |\n",
      "|         +           |\n",
      "|         +           |\n",
      "|         + + +       |\n",
      "|         + + +       |\n",
      "⎻⎻⎻⎻⎻⎻⎻⎻⎻⎻⎻⎻⎻⎻⎻⎻⎻⎻⎻⎻⎻⎻\n",
      "Score: 18\n",
      "IDS Depth 15 - avgScore: 42.1  HighScore: 61\n",
      "\t\tavgTime: 71691.8  HighTime: 288263  sumTime: 716918\n"
     ]
    }
   ],
   "source": [
    "scoreList = []\n",
    "timeList = []\n",
    "for i in range(10):\n",
    "    sTime = current_milli_time()\n",
    "    scoreList += [playSnake4IDS(15)]\n",
    "    timeList = timeList + [current_milli_time() - sTime]\n",
    "avgScore = sum(scoreList) / len(scoreList)\n",
    "avgTime = sum(timeList) / len(timeList)\n",
    "print(\"IDS Depth 15 - avgScore:\",avgScore,\" HighScore:\", max(scoreList))\n",
    "print(\"\\t\\tavgTime:\",avgTime,\" HighTime:\", max(timeList),\" sumTime:\",sum(timeList))"
   ]
  },
  {
   "cell_type": "code",
   "execution_count": 55,
   "metadata": {},
   "outputs": [
    {
     "name": "stdout",
     "output_type": "stream",
     "text": [
      "______________________\n",
      "|   + + + +         + |\n",
      "|                   + |\n",
      "|                   + |\n",
      "|                   + |\n",
      "| +     + +         + |\n",
      "| +     + +     + + + |\n",
      "|       + +           |\n",
      "| + + + + +           |\n",
      "| + O + + +         + |\n",
      "|   + + + +       # + |\n",
      "⎻⎻⎻⎻⎻⎻⎻⎻⎻⎻⎻⎻⎻⎻⎻⎻⎻⎻⎻⎻⎻⎻\n",
      "Score: 36\n",
      "IDS Depth 15 - avgScore: 41.3  HighScore: 51\n",
      "\t\tavgTime: 117464.0  HighTime: 973383  sumTime: 1174640\n"
     ]
    }
   ],
   "source": [
    "scoreList = []\n",
    "timeList = []\n",
    "for i in range(10):\n",
    "    sTime = current_milli_time()\n",
    "    scoreList += [playSnake4IDS(20)]\n",
    "    timeList = timeList + [current_milli_time() - sTime]\n",
    "avgScore = sum(scoreList) / len(scoreList)\n",
    "avgTime = sum(timeList) / len(timeList)\n",
    "print(\"IDS Depth 15 - avgScore:\",avgScore,\" HighScore:\", max(scoreList))\n",
    "print(\"\\t\\tavgTime:\",avgTime,\" HighTime:\", max(timeList),\" sumTime:\",sum(timeList))"
   ]
  },
  {
   "cell_type": "code",
   "execution_count": 199,
   "metadata": {},
   "outputs": [
    {
     "name": "stdout",
     "output_type": "stream",
     "text": [
      "______________________\n",
      "|                 +   |\n",
      "|                 +   |\n",
      "|                 +   |\n",
      "|                 +   |\n",
      "|       #   +     +   |\n",
      "|           + + + +   |\n",
      "|                     |\n",
      "| +       + +     + + |\n",
      "| + + + + + +     + O |\n",
      "| + + + + + +     + + |\n",
      "⎻⎻⎻⎻⎻⎻⎻⎻⎻⎻⎻⎻⎻⎻⎻⎻⎻⎻⎻⎻⎻⎻\n",
      "Score: 31\n"
     ]
    },
    {
     "data": {
      "text/plain": [
       "31"
      ]
     },
     "execution_count": 199,
     "metadata": {},
     "output_type": "execute_result"
    }
   ],
   "source": [
    "playSnake4IDS(20, True)"
   ]
  },
  {
   "cell_type": "markdown",
   "metadata": {},
   "source": [
    "# SANDBOX"
   ]
  },
  {
   "cell_type": "code",
   "execution_count": 86,
   "metadata": {},
   "outputs": [
    {
     "name": "stdout",
     "output_type": "stream",
     "text": [
      "['w', 's', 'a', 'd']\n",
      "[121, 231, 148, 221]\n",
      "['w', 'a', 'd', 's']\n"
     ]
    }
   ],
   "source": [
    "# SORT A LIST BY OTHER LIST\n",
    "mList = ['w','s','a','d']\n",
    "vList = [121,231,148,221]\n",
    "#newList = sorted(mList, key=lambda vList: vList)\n",
    "newList = [x for _,x in sorted(zip(vList,mList))]\n",
    "print(mList)\n",
    "print(vList)\n",
    "print(newList)"
   ]
  },
  {
   "cell_type": "code",
   "execution_count": null,
   "metadata": {
    "collapsed": true
   },
   "outputs": [],
   "source": []
  },
  {
   "cell_type": "code",
   "execution_count": null,
   "metadata": {
    "collapsed": true
   },
   "outputs": [],
   "source": []
  },
  {
   "cell_type": "code",
   "execution_count": null,
   "metadata": {
    "collapsed": true
   },
   "outputs": [],
   "source": []
  }
 ],
 "metadata": {
  "kernelspec": {
   "display_name": "Python 3",
   "language": "python",
   "name": "python3"
  },
  "language_info": {
   "codemirror_mode": {
    "name": "ipython",
    "version": 3
   },
   "file_extension": ".py",
   "mimetype": "text/x-python",
   "name": "python",
   "nbconvert_exporter": "python",
   "pygments_lexer": "ipython3",
   "version": "3.6.1"
  }
 },
 "nbformat": 4,
 "nbformat_minor": 2
}
