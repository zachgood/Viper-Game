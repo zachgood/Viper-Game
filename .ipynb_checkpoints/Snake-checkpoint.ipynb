{
 "cells": [
  {
   "cell_type": "markdown",
   "metadata": {},
   "source": [
    "# Snake"
   ]
  },
  {
   "cell_type": "markdown",
   "metadata": {},
   "source": [
    "Import Snake Class"
   ]
  },
  {
   "cell_type": "code",
   "execution_count": 2,
   "metadata": {
    "collapsed": true
   },
   "outputs": [],
   "source": [
    "from SnakeClass import *  # Game of snake"
   ]
  },
  {
   "cell_type": "markdown",
   "metadata": {},
   "source": [
    "Import Heuristic Functions"
   ]
  },
  {
   "cell_type": "code",
   "execution_count": 4,
   "metadata": {
    "collapsed": true
   },
   "outputs": [],
   "source": [
    "from SnakeHeuristics import simpleMove1                      # first version of Manhattin Dist\n",
    "from SnakeHeuristics import getSimpleOrderedMoveList         # List of moves in order of closer\n",
    "from SnakeHeuristics import simpleMove2                      # second version of Manhattin Dist\n",
    "from SnakeHeuristics import loopingMove                      # loop heuristic that always wins"
   ]
  },
  {
   "cell_type": "markdown",
   "metadata": {},
   "source": [
    "Import Negamax Iterative Deepening Search Functions"
   ]
  },
  {
   "cell_type": "code",
   "execution_count": 5,
   "metadata": {
    "collapsed": true
   },
   "outputs": [],
   "source": [
    "from SnakeNegamaxIDS import *  # Negamax functions"
   ]
  },
  {
   "cell_type": "markdown",
   "metadata": {},
   "source": [
    "## Play Snake With User Input"
   ]
  },
  {
   "cell_type": "markdown",
   "metadata": {},
   "source": [
    "To play snake with user input, declare the `PlayUI` function below and run the following cell"
   ]
  },
  {
   "cell_type": "code",
   "execution_count": 31,
   "metadata": {
    "collapsed": true
   },
   "outputs": [],
   "source": [
    "def PlayUI():\n",
    "    UIgame = Snake()                # init\n",
    "    UIgame.printLogo()              # logo\n",
    "    UIgame.printGameInfo()          # how to play\n",
    "    \n",
    "    move = input()\n",
    "    \n",
    "    if move in ['q', 'Q']: # want to quit?\n",
    "        UIgame.makeMove(move)\n",
    "    clear_output()\n",
    "    \n",
    "    # game loop\n",
    "    while(not UIgame.isOver()):\n",
    "        if move == 'r': # restart\n",
    "            startSnake()\n",
    "        print(UIgame)\n",
    "        print(\"Valid moves:\", UIgame.getMoves())\n",
    "        move = input()\n",
    "        if move in ['b', 'n', 'N', 'no', 'No', 'NO']:\n",
    "            break\n",
    "        if move in ['h','p']:\n",
    "            clear_output()\n",
    "        UIgame.makeMove(move)\n",
    "        if move in ['w','s','a','d','']:\n",
    "            clear_output()\n",
    "    print('game over, score:', UIgame.getBodyLength())\n",
    "    print(UIgame)"
   ]
  },
  {
   "cell_type": "code",
   "execution_count": 32,
   "metadata": {},
   "outputs": [
    {
     "name": "stdout",
     "output_type": "stream",
     "text": [
      "game over, score: 25\n",
      "______________________\n",
      "|                     |\n",
      "|                     |\n",
      "|                     |\n",
      "|                 #   |\n",
      "|                     |\n",
      "|                     |\n",
      "|     + + + + + +     |\n",
      "|     + + + + + +     |\n",
      "| + + + + + O + + + + |\n",
      "|       + + + +       |\n",
      "⎻⎻⎻⎻⎻⎻⎻⎻⎻⎻⎻⎻⎻⎻⎻⎻⎻⎻⎻⎻⎻⎻\n"
     ]
    }
   ],
   "source": [
    "PlayUI()"
   ]
  },
  {
   "cell_type": "markdown",
   "metadata": {},
   "source": [
    "## Function to play game"
   ]
  },
  {
   "cell_type": "markdown",
   "metadata": {},
   "source": [
    "To change player, uncomment desired UI and comment out current player.  Then run cell containing `startSanke`. <br>\n",
    "NOTE: if player is AI, make sure the time.sleep() line isnt commented out"
   ]
  },
  {
   "cell_type": "code",
   "execution_count": 29,
   "metadata": {
    "collapsed": true
   },
   "outputs": [],
   "source": [
    "from IPython.display import clear_output\n",
    "import time\n",
    "\n",
    "def startSnake(restarted = False):\n",
    "    snakeGame = Snake()                # init\n",
    "    if not restarted:\n",
    "        snakeGame.printLogo()          # logo\n",
    "        snakeGame.printGameInfo()      # how to play\n",
    "    else:\n",
    "        print(snakeGame)\n",
    "    \n",
    "    # To start a new game, there needs to be user input\n",
    "    move = input()\n",
    "    \n",
    "    if move in ['q', 'Q']:\n",
    "        snakeGame.makeMove(move)\n",
    "    \n",
    "    if not restarted:\n",
    "        clear_output()\n",
    "    \n",
    "    # game loop\n",
    "    while(not snakeGame.isOver()):#while(True):\n",
    "        if move == 'r':        # restart\n",
    "            startSnake(True)\n",
    "        else:                  # print current board\n",
    "            print(snakeGame)\n",
    "        \n",
    "        # OPTIONS FOR PLAYER. NOTE: MAKE SURE ONLY ONE OF THE FOLLOWING IS UNCOMMENTED!!!\n",
    "        #move = input()                             # User input - REMOVE SLEEP FOR UI\n",
    "        #move = loopingMove(snakeGame)              # constend loop - always wins\n",
    "        #move = simpleMove1(snakeGame)              # nearest manhatten heuristic hard coded\n",
    "        #move = simpleMove2(snakeGame)              # nearest manhatten heuristic dynamic\n",
    "        value, move = negamaxIDS(snakeGame, 5)      # negamax Itterative Deepening Search - d = 5\n",
    "        #value, move = negamaxIDS(snakeGame, 10)    # negamax IDS - depth = 10\n",
    "        #value, move = negamaxIDS(snakeGame, 15)    # negamax IDS - depth = 15\n",
    "        \n",
    "        if move in ['b', 'n', 'N', 'no', 'No', 'NO']:\n",
    "            break\n",
    "        else:\n",
    "            snakeGame.makeMove(move)\n",
    "\n",
    "        time.sleep(0.5) # wait N seconds - replacates frames per second (FPS) NOTE: REMOVE IF UI!\n",
    "        clear_output()\n",
    "        \n",
    "    print(snakeGame)\n",
    "    print('Game over! Score:', snakeGame.getBodyLength())\n",
    "    return"
   ]
  },
  {
   "cell_type": "code",
   "execution_count": 30,
   "metadata": {},
   "outputs": [
    {
     "name": "stdout",
     "output_type": "stream",
     "text": [
      "______________________\n",
      "|       #             |\n",
      "|                     |\n",
      "|                     |\n",
      "|             + + +   |\n",
      "|         + + + + +   |\n",
      "|         + + + + +   |\n",
      "|         + + + O +   |\n",
      "|         + + + + +   |\n",
      "|                     |\n",
      "|                     |\n",
      "⎻⎻⎻⎻⎻⎻⎻⎻⎻⎻⎻⎻⎻⎻⎻⎻⎻⎻⎻⎻⎻⎻\n",
      "Game over! Score: 22\n"
     ]
    }
   ],
   "source": [
    "startSnake()"
   ]
  },
  {
   "cell_type": "code",
   "execution_count": null,
   "metadata": {
    "collapsed": true
   },
   "outputs": [],
   "source": [
    "      \n",
    "    \n",
    "    \n",
    "    \n",
    "    \n",
    "    \n",
    "    \n",
    "    \n",
    "    \n",
    "    \n",
    "    \n",
    "    \n",
    "    \n",
    "    \n",
    "    \n",
    "    \n",
    "    \n",
    "    \n",
    "    \n",
    "    \n",
    "    \n",
    "    \n",
    "    \n",
    "    \n",
    "    \n",
    "    \n",
    "    \n",
    "    \n",
    "    \n",
    "    \n",
    "    \n",
    "    \n",
    "    \n",
    "    \n",
    "    \n",
    "    \n",
    "    \n",
    "    \n",
    "    \n",
    "    \n",
    "    \n",
    "    \n",
    "    \n",
    "    \n",
    "    "
   ]
  }
 ],
 "metadata": {
  "kernelspec": {
   "display_name": "Python 3",
   "language": "python",
   "name": "python3"
  },
  "language_info": {
   "codemirror_mode": {
    "name": "ipython",
    "version": 3
   },
   "file_extension": ".py",
   "mimetype": "text/x-python",
   "name": "python",
   "nbconvert_exporter": "python",
   "pygments_lexer": "ipython3",
   "version": "3.6.1"
  }
 },
 "nbformat": 4,
 "nbformat_minor": 2
}
